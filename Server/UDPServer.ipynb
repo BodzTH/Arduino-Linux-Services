{
 "cells": [
  {
   "cell_type": "code",
   "execution_count": 1,
   "metadata": {},
   "outputs": [
    {
     "name": "stdout",
     "output_type": "stream",
     "text": [
      "Waiting for a message...\n",
      "Received 0 bytes from ('192.168.1.3', 5008)\n",
      "Data: \n",
      "Waiting for a message...\n",
      "Received 47 bytes from ('192.168.1.3', 5008)\n",
      "Data: ... ..- ..- ..- .. .. .. .. No Motion Detected.\n",
      "Waiting for a message...\n",
      "Received 0 bytes from ('192.168.1.3', 5008)\n",
      "Data: \n",
      "Waiting for a message...\n",
      "Received 20 bytes from ('192.168.1.3', 5008)\n",
      "Data: \n",
      "No Motion Detected.\n",
      "Waiting for a message...\n",
      "Received 0 bytes from ('192.168.1.3', 5008)\n",
      "Data: \n",
      "Waiting for a message...\n",
      "Received 20 bytes from ('192.168.1.3', 5008)\n",
      "Data: \n",
      "No Motion Detected.\n",
      "Waiting for a message...\n",
      "Received 0 bytes from ('192.168.1.3', 5008)\n",
      "Data: \n",
      "Waiting for a message...\n",
      "Received 20 bytes from ('192.168.1.3', 5008)\n",
      "Data: \n",
      "No Motion Detected.\n",
      "Waiting for a message...\n",
      "Received 0 bytes from ('192.168.1.3', 5008)\n",
      "Data: \n",
      "Waiting for a message...\n",
      "Received 17 bytes from ('192.168.1.3', 5008)\n",
      "Data: \n",
      "Motion Detected!\n",
      "Waiting for a message...\n"
     ]
    }
   ],
   "source": [
    "import socket\n",
    "import time\n",
    "\n",
    "# Create a UDP/IP socket\n",
    "server_socket = socket.socket(socket.AF_INET, socket.SOCK_DGRAM)\n",
    "\n",
    "# Bind the socket to the address and port\n",
    "server_address = ('192.168.1.2', 5008)  # Change this to your desired server address and port\n",
    "server_socket.bind(server_address)\n",
    "message_to_send = '4'\n",
    "try:\n",
    "    while True:\n",
    "        print(\"Waiting for a message...\")\n",
    "        # Receive data from the client and client's address\n",
    "        data, address = server_socket.recvfrom(1024)  # Adjust the buffer size as needed\n",
    "        server_socket.sendto(message_to_send.encode()+'SUUUIIII'.encode(), address)\n",
    "        \n",
    "        print(f\"Received {len(data)} bytes from {address}\")\n",
    "        print(\"Data:\", data.decode())\n",
    "\n",
    "        # Sending a response back to the client\n",
    "        \n",
    "\n",
    "except KeyboardInterrupt:\n",
    "    print(\"Server stopped by the user.\")\n",
    "\n",
    "finally:\n",
    "    # Close the server socket\n",
    "    server_socket.close()\n"
   ]
  }
 ],
 "metadata": {
  "kernelspec": {
   "display_name": "Python 3",
   "language": "python",
   "name": "python3"
  },
  "language_info": {
   "codemirror_mode": {
    "name": "ipython",
    "version": 3
   },
   "file_extension": ".py",
   "mimetype": "text/x-python",
   "name": "python",
   "nbconvert_exporter": "python",
   "pygments_lexer": "ipython3",
   "version": "3.11.7"
  }
 },
 "nbformat": 4,
 "nbformat_minor": 2
}
