{
 "cells": [
  {
   "cell_type": "code",
   "execution_count": 1,
   "metadata": {},
   "outputs": [
    {
     "name": "stdout",
     "output_type": "stream",
     "text": [
      "Waiting for a message...\n",
      "Received 18 bytes from ('192.168.0.103', 5008)\n",
      "Data: hello from ESP8266\n",
      "Waiting for a message...\n",
      "Received 18 bytes from ('192.168.0.103', 5008)\n",
      "Data: hello from ESP8266\n",
      "Waiting for a message...\n",
      "Received 18 bytes from ('192.168.0.103', 5008)\n",
      "Data: hello from ESP8266\n",
      "Waiting for a message...\n",
      "Received 18 bytes from ('192.168.0.103', 5008)\n",
      "Data: hello from ESP8266\n",
      "Waiting for a message...\n",
      "Received 18 bytes from ('192.168.0.103', 5008)\n",
      "Data: hello from ESP8266\n"
     ]
    }
   ],
   "source": [
    "import socket\n",
    "import time\n",
    "\n",
    "# Create a UDP/IP socket\n",
    "server_socket = socket.socket(socket.AF_INET, socket.SOCK_DGRAM)\n",
    "\n",
    "# Bind the socket to the address and port\n",
    "server_address = ('192.168.0.100', 5008)  # Change this to your desired server address and port\n",
    "server_socket.bind(server_address)\n",
    "\n",
    "try:\n",
    "    while True:\n",
    "        print(\"Waiting for a message...\")\n",
    "        # Receive data from the client and client's address\n",
    "        data, address = server_socket.recvfrom(1024)  # Adjust the buffer size as needed\n",
    "        print(f\"Received {len(data)} bytes from {address}\")\n",
    "        print(\"Data:\", data.decode())\n",
    "\n",
    "        # Sending a response back to the client\n",
    "        message_to_send = '3'\n",
    "        server_socket.sendto(message_to_send.encode()+'SUUUIIII'.encode(), address)\n",
    "        time.sleep(5)  # Wait for 5 seconds before receiving the next message\n",
    "\n",
    "except KeyboardInterrupt:\n",
    "    print(\"Server stopped by the user.\")\n",
    "\n",
    "finally:\n",
    "    # Close the server socket\n",
    "    server_socket.close()\n"
   ]
  }
 ],
 "metadata": {
  "kernelspec": {
   "display_name": "Python 3",
   "language": "python",
   "name": "python3"
  },
  "language_info": {
   "codemirror_mode": {
    "name": "ipython",
    "version": 3
   },
   "file_extension": ".py",
   "mimetype": "text/x-python",
   "name": "python",
   "nbconvert_exporter": "python",
   "pygments_lexer": "ipython3",
   "version": "3.11.7"
  }
 },
 "nbformat": 4,
 "nbformat_minor": 2
}
