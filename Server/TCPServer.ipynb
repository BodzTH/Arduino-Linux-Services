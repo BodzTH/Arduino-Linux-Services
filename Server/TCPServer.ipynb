{
 "cells": [
  {
   "cell_type": "code",
   "execution_count": 1,
   "metadata": {},
   "outputs": [
    {
     "name": "stdout",
     "output_type": "stream",
     "text": [
      "Connection established with ('192.168.0.101', 54921)\n",
      "Sent: 2\n",
      "Received: hello from ESP8266\n",
      "Sent: 2\n",
      "Exception: [WinError 10054] An existing connection was forcibly closed by the remote host\n",
      "Connection established with ('192.168.0.101', 65124)\n",
      "Sent: 2\n",
      "Received: hello from ESP8266Wrong promptclosing connection\n",
      "Exception: [WinError 10053] An established connection was aborted by the software in your host machine\n",
      "Connection established with ('192.168.0.101', 53494)\n",
      "Sent: 2\n",
      "Received: hello from ESP8266Wrong promptclosing connection\n",
      "Exception: [WinError 10053] An established connection was aborted by the software in your host machine\n",
      "Connection established with ('192.168.0.101', 63488)\n",
      "Sent: 2\n",
      "Received: hello from ESP8266\n",
      "Sent: 2\n",
      "Received: closing connection\n",
      "Sent: 2\n",
      "Connection established with ('192.168.0.101', 57362)\n",
      "Sent: 2\n",
      "Received: hello from ESP8266\n",
      "Sent: 2\n",
      "Received: closing connection\n",
      "Sent: 2\n",
      "Connection established with ('192.168.0.101', 51506)\n",
      "Sent: 2\n",
      "Received: hello from ESP8266\n"
     ]
    }
   ],
   "source": [
    "import socket\n",
    "import time\n",
    "\n",
    "# Create a TCP/IP socket\n",
    "server_socket = socket.socket(socket.AF_INET, socket.SOCK_STREAM)\n",
    "\n",
    "# Bind the socket to the address and port\n",
    "server_address = ('192.168.0.100', 5008)  # Change this to your desired server address and port\n",
    "server_socket.bind(server_address)\n",
    "\n",
    "# Listen for incoming connections\n",
    "server_socket.listen(5)  # Allow up to 5 queued connections\n",
    "\n",
    "try:\n",
    "    while True:\n",
    "        # Accept incoming connection\n",
    "        connection, address = server_socket.accept()\n",
    "        print(f\"Connection established with {address}\")\n",
    "\n",
    "        try:\n",
    "            while True:\n",
    "                message_to_send = '2'  # Send a character '1'\n",
    "                connection.sendall(message_to_send.encode())  # Encode the character to bytes\n",
    "                connection.sendall(\"Hello\".encode())  # Encode the character to bytes\n",
    "                print(\"Sent:\", message_to_send)\n",
    "\n",
    "                # Receive data from the client\n",
    "                data = connection.recv(1024)  # Adjust the buffer size as needed\n",
    "                if not data:\n",
    "                    break  # Exit the loop if no data is received\n",
    "                print(\"Received:\", data.decode())\n",
    "\n",
    "                time.sleep(5)  # Wait for 5 seconds before sending the next message\n",
    "\n",
    "        except Exception as e:\n",
    "            print(f\"Exception: {e}\")\n",
    "            # Handle exceptions here\n",
    "\n",
    "        finally:\n",
    "            # Close the connection\n",
    "            connection.close()\n",
    "\n",
    "except KeyboardInterrupt:\n",
    "    print(\"Server stopped by the user.\")\n",
    "\n",
    "finally:\n",
    "    # Close the server socket\n",
    "    server_socket.close()\n"
   ]
  }
 ],
 "metadata": {
  "kernelspec": {
   "display_name": "Python 3",
   "language": "python",
   "name": "python3"
  },
  "language_info": {
   "codemirror_mode": {
    "name": "ipython",
    "version": 3
   },
   "file_extension": ".py",
   "mimetype": "text/x-python",
   "name": "python",
   "nbconvert_exporter": "python",
   "pygments_lexer": "ipython3",
   "version": "3.11.7"
  }
 },
 "nbformat": 4,
 "nbformat_minor": 2
}
