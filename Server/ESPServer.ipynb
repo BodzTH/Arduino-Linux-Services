{
 "cells": [
  {
   "cell_type": "code",
   "execution_count": 1,
   "metadata": {},
   "outputs": [
    {
     "name": "stdout",
     "output_type": "stream",
     "text": [
      "Listening for incoming connections on port 5008...\n",
      "Connection established with ('192.168.1.4', 54696)\n",
      "Sent: TempHum\n",
      "b'Arduino if not working\\r'\n",
      "Sent: TempHum\n",
      "b'\\r\\n'\n",
      "Sent: TempHum\n",
      "b'No input'\n",
      "Sent: TempHum\n",
      "b'\\r\\n'\n",
      "Sent: TempHum\n",
      "b'No input'\n",
      "Sent: TempHum\n",
      "b'\\r\\n'\n",
      "Sent: TempHum\n",
      "b'No input'\n",
      "Sent: TempHum\n",
      "b'\\r\\n'\n",
      "Sent: TempHum\n"
     ]
    }
   ],
   "source": [
    "import socket\n",
    "import time\n",
    "\n",
    "# Define the server's IP address and port\n",
    "server_ip = \"192.168.1.2\"  # Listen on all available interfaces\n",
    "server_port = 5008  # Use the same port as configured in the ESP32-CAM code\n",
    "\n",
    "# Create a TCP socket\n",
    "server_socket = socket.socket(socket.AF_INET, socket.SOCK_STREAM)\n",
    "\n",
    "# Bind the socket to the IP address and port\n",
    "server_socket.bind((server_ip, server_port))\n",
    "\n",
    "# Listen for incoming connections (1 pending connection in the queue)\n",
    "server_socket.listen(1)\n",
    "\n",
    "print(f\"Listening for incoming connections on port {server_port}...\")\n",
    "\n",
    "\n",
    "while True:\n",
    "    # Accept incoming connection\n",
    "    connection, address = server_socket.accept()\n",
    "    message_to_send = \"TempHum\"\n",
    "    print(f\"Connection established with {address}\")\n",
    "\n",
    "    try:\n",
    "        while True:\n",
    "            connection.sendall(message_to_send.encode())\n",
    "            print('Sent:', message_to_send)\n",
    "            data = connection.recv(2048)\n",
    "            print(data)\n",
    "            time.sleep(1)\n",
    "    finally:\n",
    "        # Close the connection\n",
    "        \n",
    "        connection.close()"
   ]
  }
 ],
 "metadata": {
  "kernelspec": {
   "display_name": "Python 3",
   "language": "python",
   "name": "python3"
  },
  "language_info": {
   "codemirror_mode": {
    "name": "ipython",
    "version": 3
   },
   "file_extension": ".py",
   "mimetype": "text/x-python",
   "name": "python",
   "nbconvert_exporter": "python",
   "pygments_lexer": "ipython3",
   "version": "3.11.7"
  }
 },
 "nbformat": 4,
 "nbformat_minor": 2
}
