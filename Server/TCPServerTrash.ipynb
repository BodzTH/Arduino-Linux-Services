{
 "cells": [
  {
   "cell_type": "code",
   "execution_count": 6,
   "metadata": {},
   "outputs": [
    {
     "ename": "OSError",
     "evalue": "[WinError 10049] The requested address is not valid in its context",
     "output_type": "error",
     "traceback": [
      "\u001b[1;31m---------------------------------------------------------------------------\u001b[0m",
      "\u001b[1;31mOSError\u001b[0m                                   Traceback (most recent call last)",
      "Cell \u001b[1;32mIn[6], line 12\u001b[0m\n\u001b[0;32m      9\u001b[0m server_socket \u001b[38;5;241m=\u001b[39m socket\u001b[38;5;241m.\u001b[39msocket(socket\u001b[38;5;241m.\u001b[39mAF_INET, socket\u001b[38;5;241m.\u001b[39mSOCK_STREAM)\n\u001b[0;32m     11\u001b[0m \u001b[38;5;66;03m# Bind the socket to the IP address and port\u001b[39;00m\n\u001b[1;32m---> 12\u001b[0m \u001b[43mserver_socket\u001b[49m\u001b[38;5;241;43m.\u001b[39;49m\u001b[43mbind\u001b[49m\u001b[43m(\u001b[49m\u001b[43m(\u001b[49m\u001b[43mserver_ip\u001b[49m\u001b[43m,\u001b[49m\u001b[43m \u001b[49m\u001b[43mserver_port\u001b[49m\u001b[43m)\u001b[49m\u001b[43m)\u001b[49m\n\u001b[0;32m     14\u001b[0m \u001b[38;5;66;03m# Listen for incoming connections (1 pending connection in the queue)\u001b[39;00m\n\u001b[0;32m     15\u001b[0m server_socket\u001b[38;5;241m.\u001b[39mlisten(\u001b[38;5;241m1\u001b[39m)\n",
      "\u001b[1;31mOSError\u001b[0m: [WinError 10049] The requested address is not valid in its context"
     ]
    }
   ],
   "source": [
    "import socket\n",
    "import sys\n",
    "import time\n",
    "\n",
    "# Define the server's IP address and port\n",
    "server_ip = \"192.168.0.100\"  # Listen on all available interfaces\n",
    "server_port = 5008  # Use the same port as configured in the ESP32-CAM code\n",
    "\n",
    "# Create a TCP socket\n",
    "server_socket = socket.socket(socket.AF_INET, socket.SOCK_STREAM)\n",
    "\n",
    "# Bind the socket to the IP address and port\n",
    "server_socket.bind((server_ip, server_port))\n",
    "\n",
    "# Listen for incoming connections (1 pending connection in the queue)\n",
    "server_socket.listen(2)\n",
    "\n",
    "print(f\"Listening for incoming connections on port {server_port}...\")\n",
    "\n",
    "def handle_case(case, message):\n",
    "    # Accept incoming connection\n",
    "    connection, address = server_socket.accept()\n",
    "    print(f\"Connection established with {address}\")\n",
    "    while True:\n",
    "        try:\n",
    "            if case == \"moorse\":\n",
    "                message_to_send = \"moorse\"\n",
    "            elif case == \"temphum\":\n",
    "                message_to_send = \"lcd\"\n",
    "            elif case == \"LCD\":\n",
    "                message_to_send = \"temp\"\n",
    "            elif case == \"motion sensor\":\n",
    "                message_to_send = \"motion\"\n",
    "            else:\n",
    "                print(\"Wrong input\")\n",
    "        except Exception as e:\n",
    "            print(\"An error occurred:\", e)\n",
    "\n",
    "            connection.sendall(message_to_send.encode())\n",
    "            time(1)\n",
    "            connection.sendall(message.encode())\n",
    "            print(f'Sent: {message_to_send}')\n",
    "\n",
    "            # Wait for response\n",
    "            data = connection.recv(2048)\n",
    "            print(f\"Received: {data}\")\n",
    "\n",
    "            # Process the response here\n",
    "            # Your logic to handle the response goes here\n",
    "        finally:\n",
    "            connection.close()\n",
    "\n",
    "\n",
    "\n",
    "# if __name__ == \"__main__\":\n",
    "#     if len(sys.argv) < 3:\n",
    "#         print(\"Please provide arguments for the case and the message.\")\n",
    "#     else:\n",
    "#         case_to_handle = sys.argv[1]\n",
    "#         message_to_send = sys.argv[2].encode()  # Convert message to bytes\n",
    "#         handle_case(case_to_handle, message_to_send)\n",
    "handle_case(\"LCD\", \"Hello\")\n"
   ]
  }
 ],
 "metadata": {
  "kernelspec": {
   "display_name": "Python 3",
   "language": "python",
   "name": "python3"
  },
  "language_info": {
   "codemirror_mode": {
    "name": "ipython",
    "version": 3
   },
   "file_extension": ".py",
   "mimetype": "text/x-python",
   "name": "python",
   "nbconvert_exporter": "python",
   "pygments_lexer": "ipython3",
   "version": "3.11.7"
  }
 },
 "nbformat": 4,
 "nbformat_minor": 2
}
