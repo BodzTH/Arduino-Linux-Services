{
 "cells": [
  {
   "cell_type": "code",
   "execution_count": 4,
   "metadata": {},
   "outputs": [
    {
     "name": "stdout",
     "output_type": "stream",
     "text": [
      "Server listening on 192.168.1.2:5008\n",
      "Connected to ('192.168.1.4', 53453)\n",
      "Received: % T: 22.20C\n",
      "H: 49.00% T: 22.20C\n",
      "H: 50.00% T: 22.20C\n",
      "H: 50.00% T: 22.20C\n",
      "H: 51.00% T: 22.20C\n",
      "H: 51.00% T: 22.20C\n",
      "H: 52.00% T: 22.20C\n",
      "H: 52.00% T: 22.20C\n",
      "H: 53.00% T: 22.20C\n",
      "H: 53.00% T: 22.20C\n",
      "H: 54.00% T: 22.20C\n",
      "H: 54.00% T: 22.20C\n",
      "H: 55.00% T: 22.20C\n",
      "H: 55.00% T: 22.20C\n",
      "\n"
     ]
    }
   ],
   "source": [
    "import socket\n",
    "\n",
    "HOST = \"192.168.1.2\"  # Replace with your laptop's local IP address\n",
    "PORT = 5008\n",
    "\n",
    "with socket.socket(socket.AF_INET, socket.SOCK_STREAM) as server_socket:\n",
    "    server_socket.bind((HOST, PORT))\n",
    "    server_socket.listen(5)\n",
    "    print(f\"Server listening on {HOST}:{PORT}\")\n",
    "\n",
    "    while True:\n",
    "        client_socket, addr = server_socket.accept()\n",
    "        print(f\"Connected to {addr}\")\n",
    "\n",
    "        with client_socket:\n",
    "            while True:\n",
    "                data = client_socket.recv(1024)\n",
    "                if not data:\n",
    "                    break\n",
    "\n",
    "                print(f\"Received: {data.decode()}\")\n",
    "\n",
    "                # Accepting input from the user and sending it to the ESP8266 client\n",
    "                num_inputs = int(input(\"Enter the number of messages to send: \"))\n",
    "\n",
    "                for i in range(num_inputs):\n",
    "                    user_input = input(f\"Enter message {i + 1}: \")\n",
    "                    client_socket.sendall(user_input.encode())"
   ]
  }
 ],
 "metadata": {
  "kernelspec": {
   "display_name": "Python 3",
   "language": "python",
   "name": "python3"
  },
  "language_info": {
   "codemirror_mode": {
    "name": "ipython",
    "version": 3
   },
   "file_extension": ".py",
   "mimetype": "text/x-python",
   "name": "python",
   "nbconvert_exporter": "python",
   "pygments_lexer": "ipython3",
   "version": "3.11.7"
  }
 },
 "nbformat": 4,
 "nbformat_minor": 2
}
